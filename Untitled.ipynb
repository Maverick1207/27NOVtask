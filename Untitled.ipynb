{
 "cells": [
  {
   "cell_type": "code",
   "execution_count": null,
   "id": "caf5cd7b-2abb-4d1d-8b98-6b5351f9161b",
   "metadata": {},
   "outputs": [],
   "source": [
    "#\"q1 : Try to print this by using while loop \\n\",\n",
    "    \"* \\n\",\n",
    "    \"* * \\n\",\n",
    "    \"* * * \\n\",\n",
    "    \"* * * * \\n\",\n",
    "    \"* * * * * \\n\",\n",
    "    \"* * * * * * \\n\",\n",
    "    \"* * * * * * * \\n\",\n",
    "    \"* * * * * * * * \\n\",\n",
    "    \"* * * * * * * * * \\n\",\n",
    "    \"\\n\",    "
   ]
  },
  {
   "cell_type": "code",
   "execution_count": 1,
   "id": "f29d2d00-62a9-41b7-b2bb-3e1f4c76b165",
   "metadata": {},
   "outputs": [
    {
     "name": "stdin",
     "output_type": "stream",
     "text": [
      "Enter the no of rows:  5\n"
     ]
    },
    {
     "name": "stdout",
     "output_type": "stream",
     "text": [
      "*\n",
      "**\n",
      "***\n",
      "****\n",
      "*****\n"
     ]
    }
   ],
   "source": [
    "n=int(input(\"Enter the no of rows: \"))\n",
    "\n",
    "for i in range(n):\n",
    "    for j in range(i+1):\n",
    "        print('*', end='')\n",
    "    print()"
   ]
  },
  {
   "cell_type": "code",
   "execution_count": null,
   "id": "7b9a5c34-5764-47df-a8fd-4825dbc5bb85",
   "metadata": {},
   "outputs": [],
   "source": [
    "#q2 : try to print below by using while loop : \\n\",\n",
    "   # \"        \\n\",\n",
    "   # \"A\\n\",\n",
    "    #\"B H \\n\",\n",
    "    #\"C I N\\n\",\n",
    "    #\"D J o S\\n\",\n",
    "    #\"E K p T W\\n\",\n",
    "    #\"F L Q U X z\\n\",\n",
    "    #\"G M R V Y \\n\","
   ]
  },
  {
   "cell_type": "code",
   "execution_count": 17,
   "id": "49c73766-4f09-4a56-9cfa-df50dbfa86ba",
   "metadata": {},
   "outputs": [
    {
     "name": "stdin",
     "output_type": "stream",
     "text": [
      "Enter the number of alphabets:  5\n"
     ]
    },
    {
     "name": "stdout",
     "output_type": "stream",
     "text": [
      "A \n",
      "B C \n",
      "C D E \n",
      "D E F G \n",
      "E F G H I \n"
     ]
    }
   ],
   "source": [
    "n=int(input(\"Enter the number of alphabets: \"))\n",
    " \n",
    "for i in range(n):\n",
    "    k = ord(\"A\")+i   #k is nothing but the ASCII value of the charachter\n",
    "    for j in range(i+1):\n",
    "        print(chr(k), end=\" \")# to print alphabets we need ASCII value of the alphabets like A=65 and B=66 ans so on to Z= \n",
    "        k=k+1\n",
    "    print()"
   ]
  },
  {
   "cell_type": "code",
   "execution_count": 16,
   "id": "04498f6b-88da-4f6b-a3a6-140433068e06",
   "metadata": {},
   "outputs": [
    {
     "ename": "SyntaxError",
     "evalue": "incomplete input (2423816829.py, line 5)",
     "output_type": "error",
     "traceback": [
      "\u001b[0;36m  Cell \u001b[0;32mIn [16], line 5\u001b[0;36m\u001b[0m\n\u001b[0;31m    \u001b[0m\n\u001b[0m    ^\u001b[0m\n\u001b[0;31mSyntaxError\u001b[0m\u001b[0;31m:\u001b[0m incomplete input\n"
     ]
    }
   ],
   "source": [
    "#q3 : Try to print all the number divisible by 3 in between a range of 40 - 400\n",
    "\n",
    "for i in range (40,400):\n",
    "    if(i%3==0):\n",
    "        print(i)\n",
    "        "
   ]
  },
  {
   "cell_type": "code",
   "execution_count": 18,
   "id": "5cda46fe-9bbd-4dfd-8a83-3ae0323c383b",
   "metadata": {},
   "outputs": [
    {
     "name": "stdout",
     "output_type": "stream",
     "text": [
      "Enter the String: \n"
     ]
    },
    {
     "name": "stdin",
     "output_type": "stream",
     "text": [
      " Python is a high-level, interpreted, general-purpose programming language. Its design philosophy emphasizes code readability with the use of significant indentation\n"
     ]
    },
    {
     "name": "stdout",
     "output_type": "stream",
     "text": [
      "\n",
      "String after removing Vowels: \n",
      "Pythn s  hgh-lvl, ntrprtd, gnrl-prps prgrmmng lngg. ts dsgn phlsphy mphszs cd rdblty wth th s f sgnfcnt ndnttn\n"
     ]
    }
   ],
   "source": [
    "# List Comprehension\n",
    "# q4 : Try to filter out all the vowels form below text by using while loop : \\n\",\n",
    "    #\" \\\"\\\"\\\"Python is a high-level, interpreted, general-purpose programming language. Its design philosophy emphasizes code readability with the use of significant indentation.[32]\\n\",\n",
    "    #\"\\n\",\n",
    "    \n",
    "print(\"Enter the String: \")\n",
    "text = input()\n",
    "\n",
    "vowels = ['a', 'e', 'i', 'o', 'u', 'A', 'E', 'I', 'O', 'U']\n",
    "newtext = \"\"\n",
    "textlen = len(text)\n",
    "\n",
    "for i in range(textlen):\n",
    "    if text[i] not in vowels:\n",
    "        newtext = newtext + text[i]\n",
    "\n",
    "print(\"\\nString after removing Vowels: \")\n",
    "text = newtext\n",
    "print(text)"
   ]
  },
  {
   "cell_type": "code",
   "execution_count": 26,
   "id": "654242a5-7ee2-4b4a-b293-90bb781644f2",
   "metadata": {},
   "outputs": [
    {
     "name": "stdout",
     "output_type": "stream",
     "text": [
      "0\n"
     ]
    }
   ],
   "source": [
    "# q5 : Try to generate all the even number between 1- 1000\n",
    "\n",
    "\n",
    "for i in range(1,1000):\n",
    "    if(i%2 == 0):\n",
    "        print(i)\n",
    "        \n",
    "        \n",
    "        "
   ]
  },
  {
   "cell_type": "code",
   "execution_count": 29,
   "id": "0df1dee8-4cc2-48fa-8db5-74dcc36686a1",
   "metadata": {},
   "outputs": [
    {
     "name": "stdout",
     "output_type": "stream",
     "text": [
      "2022-12-02 00:11:26.496382\n",
      "2022\n",
      "12\n",
      "2\n"
     ]
    }
   ],
   "source": [
    "# q7 and q8:  write a code to get a time of your system\n",
    "\n",
    "import datetime\n",
    "x=datetime.datetime.now()\n",
    "print(x)\n",
    "print(x.year)\n",
    "print(x.month)\n",
    "print(x.day)"
   ]
  },
  {
   "cell_type": "code",
   "execution_count": null,
   "id": "0b6a7f97-df46-4a3c-aef8-910afa5d0881",
   "metadata": {},
   "outputs": [],
   "source": [
    "q9 : Write a code to send a mail to your friend"
   ]
  }
 ],
 "metadata": {
  "kernelspec": {
   "display_name": "Python 3 (ipykernel)",
   "language": "python",
   "name": "python3"
  },
  "language_info": {
   "codemirror_mode": {
    "name": "ipython",
    "version": 3
   },
   "file_extension": ".py",
   "mimetype": "text/x-python",
   "name": "python",
   "nbconvert_exporter": "python",
   "pygments_lexer": "ipython3",
   "version": "3.10.6"
  }
 },
 "nbformat": 4,
 "nbformat_minor": 5
}
